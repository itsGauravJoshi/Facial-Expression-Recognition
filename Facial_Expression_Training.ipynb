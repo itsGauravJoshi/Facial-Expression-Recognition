{
 "cells": [
  {
   "cell_type": "markdown",
   "metadata": {},
   "source": [
    "# Training Facial Expression Model-\n",
    "This module trains a CNN model to classify a person's expression.\n",
    "\n",
    "### dependencies\n",
    "- python\n",
    "- Keras\n",
    "- Numpy\n",
    "- Livelossplot"
   ]
  },
  {
   "cell_type": "code",
   "execution_count": 2,
   "metadata": {},
   "outputs": [],
   "source": [
    "#importing libraries \n",
    "import tensorflow as tf\n",
    "from tensorflow.keras.layers import Dense, Conv2D, Dropout, Activation, Flatten, BatchNormalization, MaxPooling2D, Input, Lambda\n",
    "from tensorflow.keras.preprocessing.image import ImageDataGenerator\n",
    "from tensorflow.keras.callbacks import ModelCheckpoint, ReduceLROnPlateau, TensorBoard\n",
    "from tensorflow.keras.optimizers import Adam\n",
    "from tensorflow.keras.models import Model\n",
    "\n",
    "from livelossplot import PlotLossesKerasTF\n",
    "import numpy as np"
   ]
  },
  {
   "cell_type": "code",
   "execution_count": 3,
   "metadata": {},
   "outputs": [
    {
     "name": "stdout",
     "output_type": "stream",
     "text": [
      "Found 28702 images belonging to 7 classes.\n",
      "Found 7178 images belonging to 7 classes.\n"
     ]
    }
   ],
   "source": [
    "#creating data generators for train and validation\n",
    "img_size = 48\n",
    "batch_size = 32\n",
    "datagen_train = ImageDataGenerator(horizontal_flip=True, rotation_range=5)\n",
    "train_generator = datagen_train.flow_from_directory(\"Data/train\", target_size=(img_size, img_size),\n",
    "                                                    color_mode=\"grayscale\", batch_size=batch_size,\n",
    "                                                    class_mode=\"categorical\", shuffle=True)\n",
    "\n",
    "datagen_val = ImageDataGenerator(horizontal_flip=True, rotation_range=5)\n",
    "validation_generator = datagen_val.flow_from_directory(\"Data/test\", target_size=(img_size, img_size),\n",
    "                                                    color_mode=\"grayscale\", batch_size=batch_size,\n",
    "                                                    class_mode=\"categorical\", shuffle=False)\n"
   ]
  },
  {
   "cell_type": "code",
   "execution_count": 4,
   "metadata": {
    "scrolled": true
   },
   "outputs": [
    {
     "name": "stdout",
     "output_type": "stream",
     "text": [
      "Model: \"model\"\n",
      "_________________________________________________________________\n",
      "Layer (type)                 Output Shape              Param #   \n",
      "=================================================================\n",
      "input_1 (InputLayer)         [(None, 48, 48, 1)]       0         \n",
      "_________________________________________________________________\n",
      "lambda (Lambda)              (None, 48, 48, 1)         0         \n",
      "_________________________________________________________________\n",
      "conv2d (Conv2D)              (None, 48, 48, 64)        640       \n",
      "_________________________________________________________________\n",
      "batch_normalization (BatchNo (None, 48, 48, 64)        256       \n",
      "_________________________________________________________________\n",
      "activation (Activation)      (None, 48, 48, 64)        0         \n",
      "_________________________________________________________________\n",
      "max_pooling2d (MaxPooling2D) (None, 24, 24, 64)        0         \n",
      "_________________________________________________________________\n",
      "dropout (Dropout)            (None, 24, 24, 64)        0         \n",
      "_________________________________________________________________\n",
      "conv2d_1 (Conv2D)            (None, 24, 24, 128)       204928    \n",
      "_________________________________________________________________\n",
      "batch_normalization_1 (Batch (None, 24, 24, 128)       512       \n",
      "_________________________________________________________________\n",
      "activation_1 (Activation)    (None, 24, 24, 128)       0         \n",
      "_________________________________________________________________\n",
      "max_pooling2d_1 (MaxPooling2 (None, 12, 12, 128)       0         \n",
      "_________________________________________________________________\n",
      "dropout_1 (Dropout)          (None, 12, 12, 128)       0         \n",
      "_________________________________________________________________\n",
      "conv2d_2 (Conv2D)            (None, 12, 12, 512)       1638912   \n",
      "_________________________________________________________________\n",
      "batch_normalization_2 (Batch (None, 12, 12, 512)       2048      \n",
      "_________________________________________________________________\n",
      "activation_2 (Activation)    (None, 12, 12, 512)       0         \n",
      "_________________________________________________________________\n",
      "max_pooling2d_2 (MaxPooling2 (None, 6, 6, 512)         0         \n",
      "_________________________________________________________________\n",
      "dropout_2 (Dropout)          (None, 6, 6, 512)         0         \n",
      "_________________________________________________________________\n",
      "conv2d_3 (Conv2D)            (None, 6, 6, 512)         2359808   \n",
      "_________________________________________________________________\n",
      "batch_normalization_3 (Batch (None, 6, 6, 512)         2048      \n",
      "_________________________________________________________________\n",
      "activation_3 (Activation)    (None, 6, 6, 512)         0         \n",
      "_________________________________________________________________\n",
      "max_pooling2d_3 (MaxPooling2 (None, 3, 3, 512)         0         \n",
      "_________________________________________________________________\n",
      "dropout_3 (Dropout)          (None, 3, 3, 512)         0         \n",
      "_________________________________________________________________\n",
      "conv2d_4 (Conv2D)            (None, 3, 3, 1024)        4719616   \n",
      "_________________________________________________________________\n",
      "batch_normalization_4 (Batch (None, 3, 3, 1024)        4096      \n",
      "_________________________________________________________________\n",
      "activation_4 (Activation)    (None, 3, 3, 1024)        0         \n",
      "_________________________________________________________________\n",
      "max_pooling2d_4 (MaxPooling2 (None, 1, 1, 1024)        0         \n",
      "_________________________________________________________________\n",
      "dropout_4 (Dropout)          (None, 1, 1, 1024)        0         \n",
      "_________________________________________________________________\n",
      "flatten (Flatten)            (None, 1024)              0         \n",
      "_________________________________________________________________\n",
      "dense (Dense)                (None, 512)               524800    \n",
      "_________________________________________________________________\n",
      "batch_normalization_5 (Batch (None, 512)               2048      \n",
      "_________________________________________________________________\n",
      "activation_5 (Activation)    (None, 512)               0         \n",
      "_________________________________________________________________\n",
      "dropout_5 (Dropout)          (None, 512)               0         \n",
      "_________________________________________________________________\n",
      "dense_1 (Dense)              (None, 128)               65664     \n",
      "_________________________________________________________________\n",
      "batch_normalization_6 (Batch (None, 128)               512       \n",
      "_________________________________________________________________\n",
      "activation_6 (Activation)    (None, 128)               0         \n",
      "_________________________________________________________________\n",
      "dropout_6 (Dropout)          (None, 128)               0         \n",
      "_________________________________________________________________\n",
      "dense_2 (Dense)              (None, 64)                8256      \n",
      "_________________________________________________________________\n",
      "batch_normalization_7 (Batch (None, 64)                256       \n",
      "_________________________________________________________________\n",
      "activation_7 (Activation)    (None, 64)                0         \n",
      "_________________________________________________________________\n",
      "dropout_7 (Dropout)          (None, 64)                0         \n",
      "_________________________________________________________________\n",
      "dense_3 (Dense)              (None, 7)                 455       \n",
      "=================================================================\n",
      "Total params: 9,534,855\n",
      "Trainable params: 9,528,967\n",
      "Non-trainable params: 5,888\n",
      "_________________________________________________________________\n"
     ]
    }
   ],
   "source": [
    "i = Input(shape = (img_size, img_size, 1))\n",
    "x = Lambda(lambda x: x/255.0) (i)\n",
    "x = Conv2D(64, (3,3), padding='same') (x)\n",
    "x = BatchNormalization() (x)\n",
    "x = Activation('relu') (x)\n",
    "x = MaxPooling2D(pool_size=(2,2)) (x)\n",
    "x = Dropout(0.25) (x)\n",
    "\n",
    "x = Conv2D(128, (5,5), padding='same') (x)\n",
    "x = BatchNormalization() (x)\n",
    "x = Activation('relu') (x)\n",
    "x = MaxPooling2D(pool_size=(2,2)) (x)\n",
    "x = Dropout(0.25) (x)\n",
    "\n",
    "x = Conv2D(512, (5,5), padding='same') (x)\n",
    "x = BatchNormalization() (x)\n",
    "x = Activation('relu') (x)\n",
    "x = MaxPooling2D(pool_size=(2,2)) (x)\n",
    "x = Dropout(0.25) (x)\n",
    "\n",
    "x = Conv2D(512, (3,3), padding='same') (x)\n",
    "x = BatchNormalization() (x)\n",
    "x = Activation('relu') (x)\n",
    "x = MaxPooling2D(pool_size=(2,2)) (x)\n",
    "x = Dropout(0.25) (x)\n",
    "\n",
    "x = Conv2D(1024, (3,3), padding='same') (x)\n",
    "x = BatchNormalization() (x)\n",
    "x = Activation('relu') (x)\n",
    "x = MaxPooling2D(pool_size=(2,2)) (x)\n",
    "x = Dropout(0.25) (x)\n",
    "\n",
    "x = Flatten() (x)\n",
    "\n",
    "x = Dense(512) (x)\n",
    "x = BatchNormalization() (x)\n",
    "x = Activation('relu') (x)\n",
    "x = Dropout(0.25) (x)\n",
    "\n",
    "x = Dense(128) (x)\n",
    "x = BatchNormalization() (x)\n",
    "x = Activation('relu') (x)\n",
    "x = Dropout(0.25) (x)\n",
    "\n",
    "x = Dense(64) (x)\n",
    "x = BatchNormalization() (x)\n",
    "x = Activation('relu') (x)\n",
    "x = Dropout(0.25) (x)\n",
    "\n",
    "x = Dense(7, activation='softmax') (x)\n",
    "\t\n",
    "model = Model(i, x)\n",
    "\t\n",
    "model.compile(optimizer=Adam(0.0005), loss='categorical_crossentropy', metrics=['accuracy'])\n",
    "model.summary()"
   ]
  },
  {
   "cell_type": "code",
   "execution_count": 5,
   "metadata": {},
   "outputs": [
    {
     "data": {
      "image/png": "[encoded data removed]",
      "text/plain": [
       "<Figure size 864x576 with 2 Axes>"
      ]
     },
     "metadata": {
      "needs_background": "light"
     },
     "output_type": "display_data"
    },
    {
     "name": "stdout",
     "output_type": "stream",
     "text": [
      "accuracy\n",
      "\ttraining         \t (min:    0.241, max:    0.657, cur:    0.656)\n",
      "\tvalidation       \t (min:    0.257, max:    0.641, cur:    0.641)\n",
      "Loss\n",
      "\ttraining         \t (min:    0.934, max:    1.888, cur:    0.934)\n",
      "\tvalidation       \t (min:    0.978, max:    1.936, cur:    0.981)\n",
      "\n",
      "Epoch 00030: saving model to model_weights.h5\n"
     ]
    }
   ],
   "source": [
    "epochs = 30\n",
    "steps_per_epoch = train_generator.n//train_generator.batch_size\n",
    "validation_steps = validation_generator.n//validation_generator.batch_size\n",
    "\n",
    "reduce_lr = ReduceLROnPlateau(monitor='val_loss', factor=0.1,\n",
    "                              patience=2, min_lr=0.00001, mode='auto')\n",
    "checkpoint = ModelCheckpoint(\"model_weights.h5\", monitor='val_accuracy',\n",
    "                             save_weights_only=True, mode='max', verbose=1)\n",
    "callbacks = [PlotLossesKerasTF(), checkpoint, reduce_lr]\n",
    "\n",
    "history = model.fit(\n",
    "    x=train_generator,\n",
    "    steps_per_epoch=steps_per_epoch,\n",
    "    epochs=epochs,\n",
    "    validation_data = validation_generator,\n",
    "    validation_steps = validation_steps,\n",
    "    callbacks=callbacks\n",
    ")"
   ]
  },
  {
   "cell_type": "code",
   "execution_count": 6,
   "metadata": {},
   "outputs": [],
   "source": [
    "model.save(\"model.h5\")"
   ]
  },
  {
   "cell_type": "code",
   "execution_count": null,
   "metadata": {},
   "outputs": [],
   "source": []
  }
 ],
 "metadata": {
  "kernelspec": {
   "display_name": "Python 3.8 (tensorflow)",
   "language": "python",
   "name": "tensorflow"
  },
  "language_info": {
   "codemirror_mode": {
    "name": "ipython",
    "version": 3
   },
   "file_extension": ".py",
   "mimetype": "text/x-python",
   "name": "python",
   "nbconvert_exporter": "python",
   "pygments_lexer": "ipython3",
   "version": "3.8.5"
  }
 },
 "nbformat": 4,
 "nbformat_minor": 4
}
